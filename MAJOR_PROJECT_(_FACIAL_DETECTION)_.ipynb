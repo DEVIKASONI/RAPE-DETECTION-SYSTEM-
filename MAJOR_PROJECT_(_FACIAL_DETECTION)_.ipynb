{
  "cells": [
    {
      "cell_type": "markdown",
      "metadata": {
        "id": "nwk9QFmY_5w3"
      },
      "source": [
        "## Importing python libraries"
      ]
    },
    {
      "cell_type": "code",
      "source": [
        "!pip install cmake\n",
        "!pip install dlib\n",
        "!pip3 install face_recognition\n"
      ],
      "metadata": {
        "colab": {
          "base_uri": "https://localhost:8080/"
        },
        "id": "FV0O824qOJ7W",
        "outputId": "1bde1426-aeb6-493a-e95a-9e6eb6960fe1"
      },
      "execution_count": null,
      "outputs": [
        {
          "output_type": "stream",
          "name": "stdout",
          "text": [
            "Requirement already satisfied: cmake in /usr/local/lib/python3.7/dist-packages (3.12.0)\n",
            "Requirement already satisfied: dlib in /usr/local/lib/python3.7/dist-packages (19.18.0)\n",
            "Collecting face_recognition\n",
            "  Downloading face_recognition-1.3.0-py2.py3-none-any.whl (15 kB)\n",
            "Requirement already satisfied: Click>=6.0 in /usr/local/lib/python3.7/dist-packages (from face_recognition) (7.1.2)\n",
            "Requirement already satisfied: dlib>=19.7 in /usr/local/lib/python3.7/dist-packages (from face_recognition) (19.18.0)\n",
            "Collecting face-recognition-models>=0.3.0\n",
            "  Downloading face_recognition_models-0.3.0.tar.gz (100.1 MB)\n",
            "\u001b[K     |████████████████████████████████| 100.1 MB 23 kB/s \n",
            "\u001b[?25hRequirement already satisfied: Pillow in /usr/local/lib/python3.7/dist-packages (from face_recognition) (7.1.2)\n",
            "Requirement already satisfied: numpy in /usr/local/lib/python3.7/dist-packages (from face_recognition) (1.19.5)\n",
            "Building wheels for collected packages: face-recognition-models\n",
            "  Building wheel for face-recognition-models (setup.py) ... \u001b[?25l\u001b[?25hdone\n",
            "  Created wheel for face-recognition-models: filename=face_recognition_models-0.3.0-py2.py3-none-any.whl size=100566186 sha256=1d4508715978309cbaf81f59c598d36f361a57575b322cfc7c56ed5dae367018\n",
            "  Stored in directory: /root/.cache/pip/wheels/d6/81/3c/884bcd5e1c120ff548d57c2ecc9ebf3281c9a6f7c0e7e7947a\n",
            "Successfully built face-recognition-models\n",
            "Installing collected packages: face-recognition-models, face-recognition\n",
            "Successfully installed face-recognition-1.3.0 face-recognition-models-0.3.0\n"
          ]
        }
      ]
    },
    {
      "cell_type": "code",
      "execution_count": null,
      "metadata": {
        "id": "wi62tjyf_5xE"
      },
      "outputs": [],
      "source": [
        "from PIL import Image\n",
        "from matplotlib import pyplot as plt\n",
        "import numpy as np\n",
        "import keras\n",
        "from keras.models import load_model\n",
        "import cv2\n",
        "import face_recognition\n",
        "\n",
        "\n"
      ]
    },
    {
      "cell_type": "code",
      "execution_count": null,
      "metadata": {
        "id": "shQnrr8b_5xK"
      },
      "outputs": [],
      "source": [
        "!pip freeze> requirements.txt"
      ]
    },
    {
      "cell_type": "markdown",
      "metadata": {
        "id": "5YgQM1WJ_5xN"
      },
      "source": [
        "## Face Detection"
      ]
    },
    {
      "cell_type": "markdown",
      "metadata": {
        "id": "EQImk8xt_5xQ"
      },
      "source": [
        "### Sample Image"
      ]
    },
    {
      "cell_type": "code",
      "execution_count": null,
      "metadata": {
        "colab": {
          "base_uri": "https://localhost:8080/",
          "height": 432
        },
        "id": "D8WQ5-33_5xR",
        "outputId": "8a511e00-7a80-479b-b9a7-6b09b9ff0f2c"
      },
      "outputs": [
        {
          "output_type": "error",
          "ename": "AttributeError",
          "evalue": "ignored",
          "traceback": [
            "\u001b[0;31m---------------------------------------------------------------------------\u001b[0m",
            "\u001b[0;31mAttributeError\u001b[0m                            Traceback (most recent call last)",
            "\u001b[0;32m/usr/local/lib/python3.7/dist-packages/PIL/Image.py\u001b[0m in \u001b[0;36mopen\u001b[0;34m(fp, mode)\u001b[0m\n\u001b[1;32m   2846\u001b[0m     \u001b[0;32mtry\u001b[0m\u001b[0;34m:\u001b[0m\u001b[0;34m\u001b[0m\u001b[0;34m\u001b[0m\u001b[0m\n\u001b[0;32m-> 2847\u001b[0;31m         \u001b[0mfp\u001b[0m\u001b[0;34m.\u001b[0m\u001b[0mseek\u001b[0m\u001b[0;34m(\u001b[0m\u001b[0;36m0\u001b[0m\u001b[0;34m)\u001b[0m\u001b[0;34m\u001b[0m\u001b[0;34m\u001b[0m\u001b[0m\n\u001b[0m\u001b[1;32m   2848\u001b[0m     \u001b[0;32mexcept\u001b[0m \u001b[0;34m(\u001b[0m\u001b[0mAttributeError\u001b[0m\u001b[0;34m,\u001b[0m \u001b[0mio\u001b[0m\u001b[0;34m.\u001b[0m\u001b[0mUnsupportedOperation\u001b[0m\u001b[0;34m)\u001b[0m\u001b[0;34m:\u001b[0m\u001b[0;34m\u001b[0m\u001b[0;34m\u001b[0m\u001b[0m\n",
            "\u001b[0;31mAttributeError\u001b[0m: 'str' object has no attribute 'seek'",
            "\nDuring handling of the above exception, another exception occurred:\n",
            "\u001b[0;31mAttributeError\u001b[0m                            Traceback (most recent call last)",
            "\u001b[0;32m<ipython-input-6-6403ddd88e57>\u001b[0m in \u001b[0;36m<module>\u001b[0;34m()\u001b[0m\n\u001b[0;32m----> 1\u001b[0;31m \u001b[0mimage1\u001b[0m \u001b[0;34m=\u001b[0m \u001b[0mImage\u001b[0m\u001b[0;34m.\u001b[0m\u001b[0mopen\u001b[0m\u001b[0;34m(\u001b[0m\u001b[0;34m\"\"\u001b[0m\u001b[0;34m)\u001b[0m\u001b[0;34m\u001b[0m\u001b[0;34m\u001b[0m\u001b[0m\n\u001b[0m\u001b[1;32m      2\u001b[0m \u001b[0mimage_array1\u001b[0m \u001b[0;34m=\u001b[0m \u001b[0mnp\u001b[0m\u001b[0;34m.\u001b[0m\u001b[0marray\u001b[0m\u001b[0;34m(\u001b[0m\u001b[0mimage1\u001b[0m\u001b[0;34m)\u001b[0m\u001b[0;34m\u001b[0m\u001b[0;34m\u001b[0m\u001b[0m\n\u001b[1;32m      3\u001b[0m \u001b[0mplt\u001b[0m\u001b[0;34m.\u001b[0m\u001b[0mimshow\u001b[0m\u001b[0;34m(\u001b[0m\u001b[0mimage_array1\u001b[0m\u001b[0;34m)\u001b[0m\u001b[0;34m\u001b[0m\u001b[0;34m\u001b[0m\u001b[0m\n",
            "\u001b[0;32m/usr/local/lib/python3.7/dist-packages/PIL/Image.py\u001b[0m in \u001b[0;36mopen\u001b[0;34m(fp, mode)\u001b[0m\n\u001b[1;32m   2847\u001b[0m         \u001b[0mfp\u001b[0m\u001b[0;34m.\u001b[0m\u001b[0mseek\u001b[0m\u001b[0;34m(\u001b[0m\u001b[0;36m0\u001b[0m\u001b[0;34m)\u001b[0m\u001b[0;34m\u001b[0m\u001b[0;34m\u001b[0m\u001b[0m\n\u001b[1;32m   2848\u001b[0m     \u001b[0;32mexcept\u001b[0m \u001b[0;34m(\u001b[0m\u001b[0mAttributeError\u001b[0m\u001b[0;34m,\u001b[0m \u001b[0mio\u001b[0m\u001b[0;34m.\u001b[0m\u001b[0mUnsupportedOperation\u001b[0m\u001b[0;34m)\u001b[0m\u001b[0;34m:\u001b[0m\u001b[0;34m\u001b[0m\u001b[0;34m\u001b[0m\u001b[0m\n\u001b[0;32m-> 2849\u001b[0;31m         \u001b[0mfp\u001b[0m \u001b[0;34m=\u001b[0m \u001b[0mio\u001b[0m\u001b[0;34m.\u001b[0m\u001b[0mBytesIO\u001b[0m\u001b[0;34m(\u001b[0m\u001b[0mfp\u001b[0m\u001b[0;34m.\u001b[0m\u001b[0mread\u001b[0m\u001b[0;34m(\u001b[0m\u001b[0;34m)\u001b[0m\u001b[0;34m)\u001b[0m\u001b[0;34m\u001b[0m\u001b[0;34m\u001b[0m\u001b[0m\n\u001b[0m\u001b[1;32m   2850\u001b[0m         \u001b[0mexclusive_fp\u001b[0m \u001b[0;34m=\u001b[0m \u001b[0;32mTrue\u001b[0m\u001b[0;34m\u001b[0m\u001b[0;34m\u001b[0m\u001b[0m\n\u001b[1;32m   2851\u001b[0m \u001b[0;34m\u001b[0m\u001b[0m\n",
            "\u001b[0;31mAttributeError\u001b[0m: 'str' object has no attribute 'read'"
          ]
        }
      ],
      "source": [
        "image1 = Image.open(\"\")\n",
        "image_array1 = np.array(image1)\n",
        "plt.imshow(image_array1)"
      ]
    },
    {
      "cell_type": "markdown",
      "metadata": {
        "id": "pLAmjHi0_5xT"
      },
      "source": [
        "## Face Detection"
      ]
    },
    {
      "cell_type": "markdown",
      "metadata": {
        "id": "UE73-rR0_5xV"
      },
      "source": [
        "### Detecting the location of faces from a given image using face_recognition library"
      ]
    },
    {
      "cell_type": "code",
      "execution_count": null,
      "metadata": {
        "id": "VWxRJkhY_5xX"
      },
      "outputs": [],
      "source": [
        "image = face_recognition.load_image_file(\"\")\n",
        "\n",
        "face_locations = face_recognition.face_locations(image)"
      ]
    },
    {
      "cell_type": "markdown",
      "metadata": {
        "id": "p05JZenJ_5xZ"
      },
      "source": [
        "#### A list of tuples of found face locations in (top, right, bottom, left) order"
      ]
    },
    {
      "cell_type": "code",
      "execution_count": null,
      "metadata": {
        "id": "xcYLMHxO_5xb"
      },
      "outputs": [],
      "source": [
        "face_locations"
      ]
    },
    {
      "cell_type": "markdown",
      "metadata": {
        "id": "k8vWHWwm_5xc"
      },
      "source": [
        "#### Taking the first face detected from image and plotting it"
      ]
    },
    {
      "cell_type": "code",
      "execution_count": null,
      "metadata": {
        "id": "2DTHEs5e_5xe"
      },
      "outputs": [],
      "source": [
        "top, right, bottom, left = face_locations[0]\n",
        "face_image1 = image[top:bottom, left:right]\n",
        "plt.imshow(face_image1)\n",
        "image_save = Image.fromarray(face_image1)\n",
        "image_save.save(\"image_1.jpg\")"
      ]
    },
    {
      "cell_type": "markdown",
      "metadata": {
        "id": "jjkjsFBt_5xf"
      },
      "source": [
        "#### Taking the second face detected from image and plotting it"
      ]
    },
    {
      "cell_type": "code",
      "execution_count": null,
      "metadata": {
        "id": "FzYSWa8o_5xh"
      },
      "outputs": [],
      "source": [
        "top, right, bottom, left = face_locations[1]\n",
        "face_image2 = image[top:bottom, left:right]\n",
        "plt.imshow(face_image2)\n",
        "image_save = Image.fromarray(face_image2)\n",
        "image_save.save(\"image_2.jpg\")"
      ]
    },
    {
      "cell_type": "markdown",
      "metadata": {
        "id": "CMDJwzOr_5xi"
      },
      "source": [
        "## Face Recognition"
      ]
    },
    {
      "cell_type": "markdown",
      "metadata": {
        "id": "ki747x-d_5xj"
      },
      "source": [
        "### Image1"
      ]
    },
    {
      "cell_type": "code",
      "execution_count": null,
      "metadata": {
        "id": "tUTuHh3Y_5xk"
      },
      "outputs": [],
      "source": [
        "image1 = Image.open(\"/content/sample_data/IMG_20211005_145235.jpg\")\n",
        "image_array1 = np.array(image1)\n",
        "plt.imshow(image_array1)"
      ]
    },
    {
      "cell_type": "markdown",
      "metadata": {
        "id": "3OZgNmTu_5xl"
      },
      "source": [
        "### Image2"
      ]
    },
    {
      "cell_type": "code",
      "execution_count": null,
      "metadata": {
        "id": "a5nTIAyb_5xm"
      },
      "outputs": [],
      "source": [
        "image2 = Image.open(\"/content/sample_data/IMG_20211005_145235.jpg\")\n",
        "image_array2 = np.array(image2)\n",
        "plt.imshow(image_array2)"
      ]
    },
    {
      "cell_type": "markdown",
      "metadata": {
        "id": "bDVMDXKE_5xo"
      },
      "source": [
        "### Image3"
      ]
    },
    {
      "cell_type": "code",
      "execution_count": null,
      "metadata": {
        "id": "f5CSitPU_5xo"
      },
      "outputs": [],
      "source": [
        "image3 = Image.open(\"/content/sample_data/IMG-20210731-WA0057 (1).jpg\")\n",
        "image_array3 = np.array(image3)\n",
        "plt.imshow(image_array3)"
      ]
    },
    {
      "cell_type": "markdown",
      "metadata": {
        "id": "AzKYEAf6_5xp"
      },
      "source": [
        "### find the face encoding for Image1 and Image2 which is of same person with different pose and compare them to find if they are recognized as same"
      ]
    },
    {
      "cell_type": "code",
      "execution_count": null,
      "metadata": {
        "id": "Egsh51MO_5xq"
      },
      "outputs": [],
      "source": [
        "image1 = face_recognition.load_image_file(\"/content/sample_data/IMG_20211005_145229.jpg\")\n",
        "image2 = face_recognition.load_image_file(\"/content/sample_data/IMG_20211005_145229.jpg\")\n",
        " \n",
        "encoding_1 = face_recognition.face_encodings(image1)[0]\n",
        "\n",
        "encoding_2 = face_recognition.face_encodings(image1)[0]\n",
        "\n",
        "results = face_recognition.compare_faces([encoding_1], encoding_2,tolerance=0.50)\n"
      ]
    },
    {
      "cell_type": "markdown",
      "metadata": {
        "id": "XXwIppjf_5xr"
      },
      "source": [
        "### the result of the above comparison returns \"True\" stating that two images having different pose are recognized as same"
      ]
    },
    {
      "cell_type": "code",
      "execution_count": null,
      "metadata": {
        "id": "7OyVU8wo_5xs"
      },
      "outputs": [],
      "source": [
        "print(results)"
      ]
    },
    {
      "cell_type": "markdown",
      "metadata": {
        "id": "F7--p1SB_5xt"
      },
      "source": [
        "### the same is done for Image1 and Image3 which are the images of two persons and the result returned after comparison is \"False\" denoting the two images are not recognized as same"
      ]
    },
    {
      "cell_type": "code",
      "execution_count": null,
      "metadata": {
        "id": "lPWERI-6_5xu"
      },
      "outputs": [],
      "source": [
        "image1 = face_recognition.load_image_file(\"/content/sample_data/IMG_20211005_145229.jpg\")\n",
        "image2 = face_recognition.load_image_file(\"/content/sample_data/IMG_20211005_145229.jpg\")\n",
        " \n",
        "encoding_1 = face_recognition.face_encodings(image1)[0]\n",
        "\n",
        "encoding_2 = face_recognition.face_encodings(image2)[0]\n",
        "\n",
        "results = face_recognition.compare_faces([encoding_1], encoding_2,tolerance=0.50)\n"
      ]
    },
    {
      "cell_type": "code",
      "execution_count": null,
      "metadata": {
        "id": "BGQvmCWp_5xw"
      },
      "outputs": [],
      "source": [
        "print(results)"
      ]
    },
    {
      "cell_type": "markdown",
      "metadata": {
        "id": "0nPnjpPT_5xx"
      },
      "source": [
        "## Emotion detection"
      ]
    },
    {
      "cell_type": "code",
      "execution_count": null,
      "metadata": {
        "id": "FDX3yhqq_5xy"
      },
      "outputs": [],
      "source": [
        "emotion_dict= {'Angry': 0, 'Sad': 5, 'Neutral': 4, 'Disgust': 1, 'Surprise': 6, 'Fear': 2, 'Happy': 3}"
      ]
    },
    {
      "cell_type": "markdown",
      "metadata": {
        "id": "3uRweneT_5xz"
      },
      "source": [
        "### Reading a sample image "
      ]
    },
    {
      "cell_type": "code",
      "execution_count": null,
      "metadata": {
        "id": "b9QCLX0y_5x0"
      },
      "outputs": [],
      "source": [
        "face_image  = cv2.imread(\"/content/sample_data/IMG_20211005_145229.jpg\")\n",
        "plt.imshow(face_image)"
      ]
    },
    {
      "cell_type": "markdown",
      "metadata": {
        "id": "jBsOOrZC_5x0"
      },
      "source": [
        "### The label of this image is \"Surprise\""
      ]
    },
    {
      "cell_type": "code",
      "execution_count": null,
      "metadata": {
        "id": "PyWGe5xJ_5x1"
      },
      "outputs": [],
      "source": [
        "print face_image.shape"
      ]
    },
    {
      "cell_type": "code",
      "execution_count": null,
      "metadata": {
        "id": "JvnEzlsL_5x2"
      },
      "outputs": [],
      "source": [
        "# image = face_recognition.load_image_file(\"/content/sample_data/IMG_20211005_145229.jpg\")\n",
        "# face_locations = face_recognition.face_locations(face_image)\n",
        "# top, right, bottom, left = face_locations[0]\n",
        "# face_image = face_image[top:bottom, left:right]\n",
        "# plt.imshow(face_image)"
      ]
    },
    {
      "cell_type": "code",
      "execution_count": null,
      "metadata": {
        "id": "RUn8mrHe_5x3"
      },
      "outputs": [],
      "source": [
        "# resizing the image\n",
        "face_image = cv2.resize(face_image, (48,48))\n",
        "face_image = cv2.cvtColor(face_image, cv2.COLOR_BGR2GRAY)\n",
        "face_image = np.reshape(face_image, [1, face_image.shape[0], face_image.shape[1], 1])"
      ]
    },
    {
      "cell_type": "markdown",
      "metadata": {
        "id": "Eixoyagb_5x3"
      },
      "source": [
        "\n",
        "\n",
        "### Load the model trained for detecting emotions of a face"
      ]
    },
    {
      "cell_type": "code",
      "execution_count": null,
      "metadata": {
        "id": "_SRB60vE_5x4"
      },
      "outputs": [],
      "source": [
        "model = load_model(\"../emotion_detector_models/model_v6_23.hdf5\")"
      ]
    },
    {
      "cell_type": "code",
      "execution_count": null,
      "metadata": {
        "id": "kdgB5Oep_5x5"
      },
      "outputs": [],
      "source": [
        "print face_image.shape"
      ]
    },
    {
      "cell_type": "code",
      "execution_count": null,
      "metadata": {
        "id": "gTd6Va1F_5x5"
      },
      "outputs": [],
      "source": [
        "predicted_class = np.argmax(model.predict(face_image))"
      ]
    },
    {
      "cell_type": "markdown",
      "metadata": {
        "id": "pnkKUmIJ_5x6"
      },
      "source": [
        "### Predicted label"
      ]
    },
    {
      "cell_type": "code",
      "execution_count": null,
      "metadata": {
        "id": "a8-bUTL1_5x6"
      },
      "outputs": [],
      "source": [
        "\n",
        "label_map = dict((v,k) for k,v in emotion_dict.items()) \n",
        "predicted_label = label_map[predicted_class]"
      ]
    },
    {
      "cell_type": "code",
      "execution_count": null,
      "metadata": {
        "id": "qrnyq-DV_5x7"
      },
      "outputs": [],
      "source": [
        "print(predicted_label)"
      ]
    },
    {
      "cell_type": "code",
      "execution_count": null,
      "metadata": {
        "id": "AIzVbk6i_5x7"
      },
      "outputs": [],
      "source": [
        ""
      ]
    }
  ],
  "metadata": {
    "kernelspec": {
      "display_name": "Python 3",
      "name": "python3"
    },
    "language_info": {
      "name": "python"
    },
    "colab": {
      "name": "MAJOR PROJECT ( FACIAL DETECTION) .ipynb",
      "provenance": []
    },
    "accelerator": "GPU"
  },
  "nbformat": 4,
  "nbformat_minor": 0
}